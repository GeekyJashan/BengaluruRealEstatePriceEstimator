{
 "cells": [
  {
   "cell_type": "code",
   "execution_count": null,
   "metadata": {},
   "outputs": [],
   "source": []
  }
 ],
 "metadata": {
  "kernelspec": {
   "display_name": "Python 3",
   "language": "python",
   "name": "python3"
  },
  "language_info": {
   "name": "python",
   "version": "3.10.0"
  },
  "vscode": {
   "interpreter": {
    "hash": "7ae9dc20c62cf8a361bf0703b1469e9a349d77cffa82faa210b9227f91fc9cf6"
   }
  }
 },
 "nbformat": 4,
 "nbformat_minor": 5
}
